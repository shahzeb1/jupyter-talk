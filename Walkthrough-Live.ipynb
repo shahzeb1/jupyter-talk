{
 "cells": [
  {
   "cell_type": "markdown",
   "metadata": {},
   "source": [
    "# Walkthrough for Jupyter\n",
    "\n",
    "In this notebook we'll walk through how to get rolling with Notebooks.\n",
    "\n",
    "Important to note that **Jupyter Notebook file ≠ a Python file.**\n",
    "\n",
    "## 1. Generating the data\n",
    "\n",
    "For this demo, lets generate two distinct clusters of (x,y,z) coordinate data."
   ]
  },
  {
   "cell_type": "code",
   "execution_count": null,
   "metadata": {},
   "outputs": [],
   "source": [
    "# BAD CODE, DON\"T DO THIS:\n",
    "import numpy as np\n",
    "total_numbers = 200\n",
    "mean1, std_dev1 = 0, 4\n",
    "cluster1 = np.random.normal(mean1, std_dev1, size=(total_numbers,3))\n",
    "mean2, std_dev2 = 10, 5\n",
    "cluster2 = np.random.normal(mean2, std_dev2, size=(total_numbers,3))\n",
    "\n",
    "\n",
    "\n",
    "\n",
    "\n",
    "\n",
    "\n",
    "\n",
    "\n",
    "\n",
    "\n",
    "\n",
    "\n"
   ]
  },
  {
   "cell_type": "code",
   "execution_count": null,
   "metadata": {},
   "outputs": [],
   "source": [
    "# Preamble:\n",
    "%matplotlib inline\n",
    "import numpy as np\n",
    "import numpy.random as rnd\n",
    "import pickle as pkl\n",
    "from mpl_toolkits.mplot3d import Axes3D\n",
    "import matplotlib.pyplot as plt\n",
    "import plotly as py\n",
    "import plotly.graph_objs as go\n",
    "import tensorflow as tf\n",
    "from sklearn import model_selection\n",
    "from IPython.display import clear_output\n",
    "\n",
    "py.offline.init_notebook_mode(connected=True)\n",
    "\n",
    "# Global Vars:\n",
    "total_numbers = 200\n",
    "number_of_clusters = 2\n",
    "mean, std_dev = [0, 10], [4, 5]\n",
    "\n",
    "# Set a seed:\n",
    "rnd.seed(42) \n",
    "\n",
    "# Logging levels:\n",
    "#tf.logging.set_verbosity(tf.logging.ERROR)"
   ]
  },
  {
   "cell_type": "code",
   "execution_count": null,
   "metadata": {},
   "outputs": [],
   "source": [
    "def generate_data():\n",
    "    \"This function generates <number_of_clusters> set of x,y,z points\"\n",
    "    global data_points\n",
    "    \n",
    "    data_points = []\n",
    "    \n",
    "    for group in range(number_of_clusters):\n",
    "        random_points = rnd.normal(mean[group], std_dev[group], size=(total_numbers,3))\n",
    "        data_points.append(random_points)"
   ]
  },
  {
   "cell_type": "code",
   "execution_count": null,
   "metadata": {},
   "outputs": [],
   "source": [
    "generate_data()"
   ]
  },
  {
   "cell_type": "markdown",
   "metadata": {},
   "source": [
    "Now that we have data generated in `data_points`, we don't want to re-generate it everytime. It takes time to compute, and when randomness is at play, we might get different numbers every time. Getting different numbers everytime means we won't know if things have changed for the better. \n",
    "\n",
    "**Use seeds!** They are critical in being able to have reproductivity in your code. All variables which deal with randomness and machine learning have a seed option that can be set.\n",
    "\n",
    "When data has been generated in python, it doesn't need to be re-generated everytime. The `pickle` package is your best friend!"
   ]
  },
  {
   "cell_type": "code",
   "execution_count": null,
   "metadata": {},
   "outputs": [],
   "source": [
    "def save_pickle_file(name, data):\n",
    "    \"Save out the data as a pickle file\"\n",
    "    with open(\"output/{}.pkl\".format(name), \"wb\") as pickle_file:\n",
    "        pkl.dump(data, pickle_file)\n",
    "\n",
    "def load_pickle_file(name):\n",
    "    \"Get the value from the pickle file and set it as the variable value\"\n",
    "    with open(\"output/{}.pkl\".format(name), \"rb\") as pickle_file:        \n",
    "        globals()[name] = np.array(pkl.load(pickle_file))"
   ]
  },
  {
   "cell_type": "code",
   "execution_count": null,
   "metadata": {},
   "outputs": [],
   "source": [
    "#save_pickle_file(\"data_points\", data_points)\n",
    "load_pickle_file(\"data_points\")"
   ]
  },
  {
   "cell_type": "markdown",
   "metadata": {},
   "source": [
    "## 2. Visualize what we have\n",
    "\n",
    "Visualizations are one of the key features of Jupyter Notebooks. \n",
    "\n",
    "I personally like jot down the type of visualization I am aiming for on paper.\n",
    "\n",
    "![drawn graph](images/drawing.jpg \"Drawing\")"
   ]
  },
  {
   "cell_type": "code",
   "execution_count": null,
   "metadata": {},
   "outputs": [],
   "source": [
    "# %load snippets/3dplot.py\n",
    "marks_and_colors = [\"r\", \"o\"], [\"b\", \"^\"]\n",
    "\n",
    "def plot_3d(new_point=False):\n",
    "    \"Makes a 3d plot for a given dataset\"\n",
    "    fig = plt.figure(figsize=(16, 16)) # easy way to get bigger figures\n",
    "    ax = fig.add_subplot(111, projection='3d')\n",
    "    \n",
    "    # Scatter points:\n",
    "    i = 0\n",
    "    for group in data_points:\n",
    "        for point in group:\n",
    "            ax.scatter(point[0], point[1], point[2], c=marks_and_colors[i][0], marker=marks_and_colors[i][1])\n",
    "        i = i + 1\n",
    "\n",
    "    # Check to see if new_point is set:\n",
    "    if new_point:\n",
    "        ax.scatter(new_point[0], new_point[1], new_point[2], c=\"g\", marker=\"o\", s=600)\n",
    "        \n",
    "    # Labels:\n",
    "    ax.set_xlabel('X Label')\n",
    "    ax.set_ylabel('Y Label')\n",
    "    ax.set_zlabel('Z Label')\n",
    "\n",
    "    plt.show()\n",
    "    \n",
    "    # Save the image:\n",
    "    fig.savefig('output/3d-plot.png')\n",
    "    plt.close(fig)"
   ]
  },
  {
   "cell_type": "code",
   "execution_count": null,
   "metadata": {},
   "outputs": [],
   "source": [
    "plot_3d()"
   ]
  },
  {
   "cell_type": "markdown",
   "metadata": {},
   "source": [
    "Cool! We got the visualization that we wanted, and we save it out everytime it is rendered. Saving the image out and putting it on version control (`git`) is a great way to track the graphics.\n",
    "\n",
    "### Interactive Visualizations \n",
    "\n",
    "Interactive visualizations are not much harder than the interactive one. For our particular case, we will be using [Plot.ly](https://plot.ly/). The service requires you to create an account and have an API key (follow [these instructions](https://plot.ly/python/getting-started/)). \n",
    "\n",
    "Even though Plot.ly is a paid service, I have a little life-hack which allows you to create as many plots as you want while sticking to the free plan.\n",
    "\n",
    "After creating an account with Plot.ly, run the following code one time:\n",
    "```python\n",
    "import plotly\n",
    "plotly.tools.set_credentials_file(username='DemoAccount', api_key='lr1c37zw81')\n",
    "```"
   ]
  },
  {
   "cell_type": "code",
   "execution_count": null,
   "metadata": {},
   "outputs": [],
   "source": [
    "# %load snippets/3d-interactive-plot.py\n",
    "def interactive_3d_plot(new_point=False, save=False):\n",
    "    data = []\n",
    "    \n",
    "    # Marker and color info \n",
    "    marks_and_interactive = [\"red\", \"circle\"], [\"blue\", \"diamond\"]\n",
    "    \n",
    "    # Scatter points:\n",
    "    i = 0\n",
    "    for g in data_points:\n",
    "        group = go.Scatter3d(\n",
    "            x=g[:,0],\n",
    "            y=g[:,1],\n",
    "            z=g[:,2],\n",
    "            mode='markers',\n",
    "            name='Grouping {}'.format(i+1),\n",
    "            marker=dict(\n",
    "                color=marks_and_interactive[i][0],\n",
    "                size=12,\n",
    "                symbol=marks_and_interactive[i][1],\n",
    "                line=dict(\n",
    "                    color='rgba(217, 217, 217, 0.14)',\n",
    "                    width=0.2\n",
    "                ),\n",
    "                opacity=0.6\n",
    "            )\n",
    "        )\n",
    "        data.append(group)\n",
    "        i = i + 1\n",
    "    \n",
    "    # The layout for the plot:\n",
    "    layout = go.Layout(\n",
    "        margin=dict(\n",
    "            l=0,\n",
    "            r=0,\n",
    "            b=0,\n",
    "            t=0\n",
    "        )\n",
    "    )\n",
    "    \n",
    "    # To save the plot, pass in a flag and then render the plot out as a .html file:\n",
    "    if save:\n",
    "        file_name = \"3d-interactive-plot\"\n",
    "        py.offline.plot({\"data\": data, \"layout\": layout}, \n",
    "                            auto_open=False, filename=\"output/{}.html\".format(file_name))\n",
    "        print(\"Saved the file {}\".format(file_name))\n",
    "    \n",
    "    # Use the offline plot to see the plot:\n",
    "    py.offline.iplot({\"data\":data, \"layout\":layout})"
   ]
  },
  {
   "cell_type": "code",
   "execution_count": null,
   "metadata": {},
   "outputs": [],
   "source": [
    "interactive_3d_plot(save=True)"
   ]
  },
  {
   "cell_type": "markdown",
   "metadata": {},
   "source": [
    "## 3. Machine Learning\n",
    "\n",
    "Let's create a basic `tensorflow` model which is able to classify any given point as either group 1 (red group) and group 2 (blue group)."
   ]
  },
  {
   "cell_type": "code",
   "execution_count": null,
   "metadata": {},
   "outputs": [],
   "source": [
    "# %load snippets/ml.py\n",
    "def deep_classifier():\n",
    "    '''\n",
    "    Make a basic tensorflow DNN\n",
    "    '''\n",
    "    # Get the data into an np array which makes things easy\n",
    "    data = np.concatenate((data_points[0], data_points[1]), axis=0)\n",
    "    labels = np.repeat([0, 1], 200)\n",
    "    \n",
    "    # Split into training and testing data:\n",
    "    x_train, x_test, y_train, y_test = model_selection.train_test_split(\n",
    "        data, labels, test_size=0.2, random_state=100)\n",
    "    \n",
    "    feature_columns = [tf.feature_column.numeric_column('x', shape=np.array(x_train).shape[1:])] \n",
    "    \n",
    "    get_train_input_fn = tf.estimator.inputs.numpy_input_fn(\n",
    "        x={'x':x_train}, y=y_train, num_epochs=5, shuffle=True)\n",
    "    \n",
    "    get_test_input_fn = tf.estimator.inputs.numpy_input_fn(\n",
    "        x={'x':x_test}, y=y_test, num_epochs=1, shuffle=True)\n",
    "    \n",
    "    # Create a DNN classifier:\n",
    "    classifier = tf.estimator.DNNClassifier(feature_columns=feature_columns, \n",
    "            hidden_units=[1000, 100, 10], n_classes=2, model_dir=\"model\",\n",
    "            optimizer=tf.train.ProximalAdagradOptimizer(\n",
    "                learning_rate=0.01,\n",
    "                l1_regularization_strength=0.01),\n",
    "                config=tf.estimator.RunConfig().replace(save_summary_steps=10))\n",
    "    \n",
    "    # Train the classifier:\n",
    "    classifier.train(input_fn=get_train_input_fn, steps=1000)\n",
    "\n",
    "    scores = classifier.evaluate(input_fn=get_test_input_fn)\n",
    "    \n",
    "    print('Accuracy (tf.estimator): {0:f}'.format(scores['accuracy']))\n",
    "    \n",
    "    return classifier"
   ]
  },
  {
   "cell_type": "code",
   "execution_count": null,
   "metadata": {},
   "outputs": [],
   "source": [
    "classifier = deep_classifier()"
   ]
  },
  {
   "cell_type": "markdown",
   "metadata": {},
   "source": [
    "Different results can be gotten by changing various parameters of the DNNClassifier (such as the `learning_rate` and `num_epochs`). Since the same directory `model/` is being used to serve TensorBoard, TensorBoard will keep track of historical models."
   ]
  },
  {
   "cell_type": "code",
   "execution_count": null,
   "metadata": {},
   "outputs": [],
   "source": [
    "def make_prediction(points):\n",
    "    \"Try to predict the class of the point for our own point\"\n",
    "    our_point_fn = tf.estimator.inputs.numpy_input_fn(x={'x':points}, shuffle=False)\n",
    "\n",
    "    # Make a prediction:\n",
    "    prediction = classifier.predict(input_fn=our_point_fn)\n",
    "    return prediction\n",
    "\n",
    "# The points:\n",
    "points = np.array([[1, -5, 4], [12, 2, 15]]) # Answers: class 0, then class 1\n",
    "\n",
    "for index, pred in enumerate(list(make_prediction(points))):\n",
    "    print(points[index], '→' , pred['class_ids'])"
   ]
  },
  {
   "cell_type": "markdown",
   "metadata": {},
   "source": [
    "## 4. Interactivity\n",
    "\n",
    "Most people do not know this but Jupyter has a built in feature which allows us to to easily take in user input. Here we'll take in the `x,y,z` points from the user and then make a classification based on the model prediction. Here are the [docs for interactive widgets](https://ipywidgets.readthedocs.io/en/latest/examples/Using%20Interact.html)."
   ]
  },
  {
   "cell_type": "code",
   "execution_count": null,
   "metadata": {},
   "outputs": [],
   "source": [
    "from ipywidgets import widgets\n",
    "%matplotlib notebook"
   ]
  },
  {
   "cell_type": "code",
   "execution_count": null,
   "metadata": {},
   "outputs": [],
   "source": [
    "# Define the x, y, z sliders\n",
    "x = widgets.FloatSlider(\n",
    "    value=1.0,\n",
    "    min=np.min(data_points[0][:, 0]),\n",
    "    max=np.max(data_points[1][:, 0]),\n",
    "    step=1.0,\n",
    "    description='X:',\n",
    "    continuous_update = False\n",
    ")\n",
    "\n",
    "y = widgets.FloatSlider(\n",
    "    value=1.0,\n",
    "    min=np.min(data_points[0][:, 1]),\n",
    "    max=np.max(data_points[1][:, 1]),\n",
    "    step=1.0,\n",
    "    description='Y:',\n",
    "    continuous_update = False\n",
    ")\n",
    "\n",
    "z = widgets.FloatSlider(\n",
    "    value=1.0,\n",
    "    min=np.min(data_points[0][:, 2]),\n",
    "    max=np.max(data_points[1][:, 2]),\n",
    "    step=1.0,\n",
    "    description='Z:',\n",
    "    continuous_update = False\n",
    ")\n",
    "\n",
    "button = widgets.Button(description=\"Predict Point\")"
   ]
  },
  {
   "cell_type": "code",
   "execution_count": null,
   "metadata": {},
   "outputs": [],
   "source": [
    "box = widgets.HBox(children=[x, y, z, button])"
   ]
  },
  {
   "cell_type": "code",
   "execution_count": null,
   "metadata": {},
   "outputs": [],
   "source": [
    "fig = plt.figure(figsize=(13, 6))\n",
    "fig.canvas.set_window_title('Prediction Maker')\n",
    "ax = fig.add_subplot(121, projection='3d')\n",
    "ay = fig.add_subplot(122)\n",
    "ax.set_title('Points in Space')\n",
    "\n",
    "def create_initial_plot():\n",
    "    \"Create the initial plot with all the data_points\"\n",
    "    # Add the points: \n",
    "    i = 0\n",
    "    for group in data_points:\n",
    "        for point in group:\n",
    "            ax.scatter(point[0], point[1], point[2], c=marks_and_colors[i][0], marker=marks_and_colors[i][1])\n",
    "        i = i + 1\n",
    "\n",
    "    # Labels:\n",
    "    ax.set_xlabel('X')\n",
    "    ax.set_ylabel('Y')\n",
    "    ax.set_zlabel('Z')\n",
    "\n",
    "def button_clicked(change):\n",
    "    \"Ran when the button is clicked\"\n",
    "    global my_point\n",
    "    # Remove the old point:\n",
    "    try:\n",
    "        my_point.remove()\n",
    "    except:\n",
    "        print(\"The green point has been added\")\n",
    "        \n",
    "    # Plot our new point:\n",
    "    my_point = ax.scatter(x.value, y.value, z.value, c=\"g\", marker=\"o\", s=600)\n",
    "    \n",
    "    # Make the prediciton:\n",
    "    prediction = make_prediction(np.array([[x.value, y.value, z.value]]))\n",
    "    prob = list(prediction)[0]['probabilities']\n",
    "    \n",
    "    # Plot the prediction:\n",
    "    ay.cla()\n",
    "    ay.set_title('Point Prediction')\n",
    "    ay.bar([0, 1], prob, align='center', color=['red', 'blue'])\n",
    "    ay.set_xticks([0, 1])\n",
    "    ay.set_xticklabels(['red', 'blue'])\n",
    "    \n",
    "create_initial_plot()"
   ]
  },
  {
   "cell_type": "code",
   "execution_count": null,
   "metadata": {},
   "outputs": [],
   "source": [
    "# Listen for when the button is clicked, then make the callback:\n",
    "button.on_click(button_clicked)\n",
    "\n",
    "# Display the box:\n",
    "display(box)"
   ]
  },
  {
   "cell_type": "markdown",
   "metadata": {},
   "source": [
    "In order to listen for just changes in specific values (without a button), use the following: `x.observe(some_function)` where `some_function` is a callback function. "
   ]
  },
  {
   "cell_type": "markdown",
   "metadata": {},
   "source": [
    "### Useful magic commands:\n",
    "\n",
    "Magic commands are run by havinv `%` at the start of a cell. Here are some useful ones I use often:\n",
    "\n",
    "- `%time` - Times execution of a cell.\n",
    "- `%load hello_world.py` - Will load in the contents of a file into a cell\n",
    "- `%store data` - Will store data to be used by other Notebooks. `%store -r data` in a different Notebook will bring in that data to be used.\n",
    "- `%lsmagic` - List out all the magic commands.\n",
    "\n",
    "To learn about any magic command, run the magic command with a `?` at the end. For instance `%time?`.\n",
    "\n",
    "You can also run bash commands by having `!` before a bash command. For instance `!ls`."
   ]
  },
  {
   "cell_type": "code",
   "execution_count": null,
   "metadata": {},
   "outputs": [],
   "source": [
    "!wget"
   ]
  },
  {
   "cell_type": "code",
   "execution_count": null,
   "metadata": {},
   "outputs": [],
   "source": [
    "%time\n",
    "print('time me')"
   ]
  },
  {
   "cell_type": "code",
   "execution_count": null,
   "metadata": {
    "scrolled": true
   },
   "outputs": [],
   "source": [
    "%lsmagic"
   ]
  },
  {
   "cell_type": "code",
   "execution_count": null,
   "metadata": {},
   "outputs": [],
   "source": [
    "%%latex\n",
    "$y=mx+b$"
   ]
  },
  {
   "cell_type": "code",
   "execution_count": null,
   "metadata": {},
   "outputs": [],
   "source": [
    "%%ruby\n",
    "puts 'Ruby inside Jupyter!'"
   ]
  },
  {
   "cell_type": "markdown",
   "metadata": {},
   "source": [
    "## Jupyter to Python conversion:\n",
    "\n",
    "```\n",
    "jupyter nbconvert --to script Test.ipynb\n",
    "```\n",
    "\n",
    "Make some minor changes to the `.py` file:\n",
    "\n",
    "1. Get rid of the magic line\n",
    "2. Add the following line before you import plt `matplotlib.use('agg')`\n",
    "3. Instead of `plt.show()` use `plt.savefig('output/languages.png')`\n",
    "4. Run with $ python3 <file>.py\n",
    "\n",
    "## Make Slides with Jupyter:\n",
    "\n",
    "```\n",
    "jupyter nbconvert --to slides Slides.ipynb --reveal-prefix \"https://cdnjs.cloudflare.com/ajax/libs/reveal.js/3.6.0\"\n",
    "```"
   ]
  },
  {
   "cell_type": "code",
   "execution_count": null,
   "metadata": {},
   "outputs": [],
   "source": [
    "%%html\n",
    "<h3>If you have any questions, feel free to <a href=\"mailto:mnkhan@ucdavis.edu\">email me</a>!</h3>"
   ]
  },
  {
   "cell_type": "code",
   "execution_count": null,
   "metadata": {},
   "outputs": [],
   "source": []
  }
 ],
 "metadata": {
  "kernelspec": {
   "display_name": "Python [conda env:myenv]",
   "language": "python",
   "name": "conda-env-myenv-py"
  },
  "language_info": {
   "codemirror_mode": {
    "name": "ipython",
    "version": 3
   },
   "file_extension": ".py",
   "mimetype": "text/x-python",
   "name": "python",
   "nbconvert_exporter": "python",
   "pygments_lexer": "ipython3",
   "version": "3.6.6"
  }
 },
 "nbformat": 4,
 "nbformat_minor": 2
}
