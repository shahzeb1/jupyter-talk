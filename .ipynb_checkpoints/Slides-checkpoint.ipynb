{
 "cells": [
  {
   "cell_type": "markdown",
   "metadata": {
    "slideshow": {
     "slide_type": "slide"
    }
   },
   "source": [
    "# Improving Your Workflow with Jupyter Notebooks\n",
    "\n",
    "A talk by **Shahzeb Khan**.\n",
    "\n",
    "Part of **Dr. Crivelli**'s Lab.\n",
    "\n",
    "UC Davis Computer Science Student. \n",
    "\n",
    "Email: mnkhan@ucdavis.edu\n",
    "\n",
    "🚨 \n",
    "Slides and code: **[tiny.cc/jupyter-cori](http://tiny.cc/jupyter-cori)**"
   ]
  },
  {
   "cell_type": "markdown",
   "metadata": {
    "slideshow": {
     "slide_type": "slide"
    }
   },
   "source": [
    "## Why Jupyter:\n",
    "\n",
    "### Jupyter makes your life easier.\n",
    "\n",
    "#### Code → Git → Your team"
   ]
  },
  {
   "cell_type": "markdown",
   "metadata": {
    "slideshow": {
     "slide_type": "fragment"
    }
   },
   "source": [
    "#### Jupyter → Git → Your team"
   ]
  },
  {
   "cell_type": "markdown",
   "metadata": {
    "slideshow": {
     "slide_type": "fragment"
    }
   },
   "source": [
    "1. Faster prototyping\n",
    "2. More interactive\n",
    "3. Perfect for documenting code\n",
    "\n",
    "#### Optimized workflow + Good tooling = Better collaboration and better results!"
   ]
  },
  {
   "cell_type": "markdown",
   "metadata": {
    "slideshow": {
     "slide_type": "slide"
    }
   },
   "source": [
    "## Code vs. Jupyter\n",
    "\n",
    "![code vs jupyter](images/code-and-jupyter.png \"Code vs. Jupyter\")"
   ]
  },
  {
   "cell_type": "markdown",
   "metadata": {
    "slideshow": {
     "slide_type": "subslide"
    }
   },
   "source": [
    "#### Two different types of cells:\n",
    "\n",
    "1. Code cells (execute python)\n",
    "2. Markdown cells"
   ]
  },
  {
   "cell_type": "code",
   "execution_count": 2,
   "metadata": {
    "slideshow": {
     "slide_type": "subslide"
    }
   },
   "outputs": [
    {
     "name": "stdout",
     "output_type": "stream",
     "text": [
      "[1, 2, 3]\n"
     ]
    }
   ],
   "source": [
    "some_data = [1, 2, 3]\n",
    "print(some_data)"
   ]
  },
  {
   "cell_type": "markdown",
   "metadata": {
    "slideshow": {
     "slide_type": "subslide"
    }
   },
   "source": [
    "I am a markdown cell. I can make my text look ***real cool***. "
   ]
  },
  {
   "cell_type": "code",
   "execution_count": 5,
   "metadata": {
    "slideshow": {
     "slide_type": "subslide"
    }
   },
   "outputs": [
    {
     "data": {
      "text/latex": [
       "$y=mx+b$"
      ],
      "text/plain": [
       "<IPython.core.display.Latex object>"
      ]
     },
     "metadata": {},
     "output_type": "display_data"
    }
   ],
   "source": [
    "%%latex\n",
    "$y=mx+b$"
   ]
  },
  {
   "cell_type": "markdown",
   "metadata": {
    "slideshow": {
     "slide_type": "slide"
    }
   },
   "source": [
    "# Getting setup on CORI\n",
    "\n",
    "### Goals:\n",
    "\n",
    "1. Create a Python environment\n",
    "2. Connect to a Jupyter Notebook\n",
    "3. Bring in our own packages"
   ]
  },
  {
   "cell_type": "markdown",
   "metadata": {
    "slideshow": {
     "slide_type": "fragment"
    }
   },
   "source": [
    "### SSH:\n",
    "\n",
    "\n",
    "```\n",
    "ssh -L :9998:localhost:9998 -l <username> cori.nersc.gov\n",
    "```\n",
    "\n",
    "We will be binding our local port `9998` to the remote port `9998`."
   ]
  },
  {
   "cell_type": "markdown",
   "metadata": {
    "slideshow": {
     "slide_type": "slide"
    }
   },
   "source": [
    "### Get the environment ready:\n",
    "\n",
    "After SSH-ing into CORI, run the following commands one by one.\n",
    "\n",
    "```shell\n",
    "module load python/3.6-anaconda-4.4\n",
    "conda create --name myenv # Run me to create a new environment\n",
    "source activate myenv\n",
    "conda install plotly jupyter \n",
    "pip install matplotlib\n",
    "jupyter notebook --no-browser --port 9998\n",
    "```"
   ]
  },
  {
   "cell_type": "markdown",
   "metadata": {
    "slideshow": {
     "slide_type": "slide"
    }
   },
   "source": [
    "# Our Notebook:\n",
    "\n",
    "- Genereate some data\n",
    "- Visualize it\n",
    "- Interactive visualization\n",
    "- Tensorflow + Tensorboard\n",
    "- Show some tips and tricks (`magic`)"
   ]
  },
  {
   "cell_type": "markdown",
   "metadata": {
    "slideshow": {
     "slide_type": "slide"
    }
   },
   "source": [
    "## Conclusion:\n",
    "\n",
    "Jupyter Notebook file ≠ a Python file.\n",
    "\n",
    "You'll be more productive if you use this tool well.\n",
    "\n",
    "Some things to keep in mind: "
   ]
  },
  {
   "cell_type": "markdown",
   "metadata": {
    "slideshow": {
     "slide_type": "slide"
    }
   },
   "source": [
    "#### Preamble for dependencies:"
   ]
  },
  {
   "cell_type": "code",
   "execution_count": 17,
   "metadata": {
    "slideshow": {
     "slide_type": "fragment"
    }
   },
   "outputs": [],
   "source": [
    "# BAD:\n",
    "import numpy as np\n",
    "my_data = np.array([1,2,3])\n",
    "import tensorflow as tf\n",
    "import numpy.random as rnd\n",
    "import csv\n",
    "random_int = rnd.randint(1)"
   ]
  },
  {
   "cell_type": "code",
   "execution_count": 16,
   "metadata": {
    "slideshow": {
     "slide_type": "fragment"
    }
   },
   "outputs": [],
   "source": [
    "# GOOD:\n",
    "import numpy as np\n",
    "import numpy.random as rnd\n",
    "import tensorflow as tf\n",
    "\n",
    "# Global variables:\n",
    "my_data = np.array([1,2,3])\n",
    "random_int = rnd.randint(1)"
   ]
  },
  {
   "cell_type": "markdown",
   "metadata": {
    "slideshow": {
     "slide_type": "slide"
    }
   },
   "source": [
    "#### Define functions:\n",
    "\n",
    "Don't keep things in the global scope."
   ]
  },
  {
   "cell_type": "code",
   "execution_count": 19,
   "metadata": {
    "slideshow": {
     "slide_type": "fragment"
    }
   },
   "outputs": [],
   "source": [
    "# BAD:\n",
    "with open(\"snippets/actors.csv\") as csvfile:\n",
    "    reader = csv.reader(csvfile)\n",
    "    next(reader)\n",
    "    data = [r for r in reader]"
   ]
  },
  {
   "cell_type": "code",
   "execution_count": 21,
   "metadata": {
    "slideshow": {
     "slide_type": "fragment"
    }
   },
   "outputs": [],
   "source": [
    "# GOOD:\n",
    "def load_actors():\n",
    "    \"Loads the actors from the .csv file\"\n",
    "    global data\n",
    "    \n",
    "    file_name = \"snippets/actors.csv\"\n",
    "    \n",
    "    with open(file_name) as csvfile:\n",
    "        reader = csv.reader(csvfile)\n",
    "        next(reader)\n",
    "        data = [r for r in reader]"
   ]
  },
  {
   "cell_type": "code",
   "execution_count": 24,
   "metadata": {
    "slideshow": {
     "slide_type": "fragment"
    }
   },
   "outputs": [
    {
     "data": {
      "text/plain": [
       "[['leo dicaprio', '43'], ['angelina jolie', '43'], ['brad pitt', '54']]"
      ]
     },
     "execution_count": 24,
     "metadata": {},
     "output_type": "execute_result"
    }
   ],
   "source": [
    "load_actors()\n",
    "data"
   ]
  },
  {
   "cell_type": "markdown",
   "metadata": {
    "slideshow": {
     "slide_type": "slide"
    }
   },
   "source": [
    "#### Use Pickle:\n",
    "\n",
    "`pickle` is a great built in package to store large data arrays (or any datatype) to the disk."
   ]
  },
  {
   "cell_type": "code",
   "execution_count": 25,
   "metadata": {
    "slideshow": {
     "slide_type": "fragment"
    }
   },
   "outputs": [],
   "source": [
    "import pickle as pkl\n",
    "def save_pickle_file(name, data):\n",
    "    \"Save out the data as a pickle file\"\n",
    "    with open(\"output/{}.pkl\".format(name), \"wb\") as pickle_file:\n",
    "        pkl.dump(data, pickle_file)\n",
    "\n",
    "def load_pickle_file(name):\n",
    "    \"Get the value from the pickle file and set it as the variable value\"\n",
    "    with open(\"output/{}.pkl\".format(name), \"rb\") as pickle_file:        \n",
    "        globals()[name] = np.array(pkl.load(pickle_file))"
   ]
  },
  {
   "cell_type": "code",
   "execution_count": 26,
   "metadata": {
    "slideshow": {
     "slide_type": "fragment"
    }
   },
   "outputs": [],
   "source": [
    "save_pickle_file(\"actors_data\", data)"
   ]
  },
  {
   "cell_type": "code",
   "execution_count": 31,
   "metadata": {
    "slideshow": {
     "slide_type": "fragment"
    }
   },
   "outputs": [
    {
     "data": {
      "text/plain": [
       "array([['leo dicaprio', '43'],\n",
       "       ['angelina jolie', '43'],\n",
       "       ['brad pitt', '54']], dtype='<U14')"
      ]
     },
     "execution_count": 31,
     "metadata": {},
     "output_type": "execute_result"
    }
   ],
   "source": [
    "load_pickle_file(\"actors_data\")\n",
    "actors_data"
   ]
  },
  {
   "cell_type": "markdown",
   "metadata": {
    "slideshow": {
     "slide_type": "slide"
    }
   },
   "source": [
    "## Helpful tools:\n",
    "\n",
    "1. Use [NBViewer](https://plot.ly/python/ipython-notebook-tutorial/) to view your Jupyter notebooks via Git.\n",
    "2. Use [Plot.ly](https://plot.ly/python/ipython-notebook-tutorial/) for interactive graphs.\n",
    "3. Use [Raw Git](http://rawgit.com/) to host .html files."
   ]
  },
  {
   "cell_type": "markdown",
   "metadata": {
    "slideshow": {
     "slide_type": "slide"
    }
   },
   "source": [
    "### Thank you\n",
    "\n",
    "## 🚨 tiny.cc/jupyter-cori\n",
    "\n",
    "Any questions?"
   ]
  }
 ],
 "metadata": {
  "celltoolbar": "Slideshow",
  "kernelspec": {
   "display_name": "Python 3",
   "language": "python",
   "name": "python3"
  },
  "language_info": {
   "codemirror_mode": {
    "name": "ipython",
    "version": 3
   },
   "file_extension": ".py",
   "mimetype": "text/x-python",
   "name": "python",
   "nbconvert_exporter": "python",
   "pygments_lexer": "ipython3",
   "version": "3.6.6"
  }
 },
 "nbformat": 4,
 "nbformat_minor": 2
}
